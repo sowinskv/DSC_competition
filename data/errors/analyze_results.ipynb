{
 "cells": [
  {
   "cell_type": "code",
   "execution_count": 1,
   "id": "initial_id",
   "metadata": {
    "collapsed": true,
    "ExecuteTime": {
     "end_time": "2025-03-24T19:21:00.933206600Z",
     "start_time": "2025-03-24T19:21:00.930180900Z"
    }
   },
   "outputs": [],
   "source": [
    "import pandas as pd"
   ]
  },
  {
   "cell_type": "code",
   "execution_count": 7,
   "outputs": [],
   "source": [
    "train_df = pd.read_csv('../results/2025-03-24_20-15-30/train-results.csv')"
   ],
   "metadata": {
    "collapsed": false,
    "ExecuteTime": {
     "end_time": "2025-03-24T19:21:53.124991900Z",
     "start_time": "2025-03-24T19:21:52.135048900Z"
    }
   },
   "id": "838a7f52c591e911"
  },
  {
   "cell_type": "code",
   "execution_count": 13,
   "outputs": [
    {
     "name": "stderr",
     "output_type": "stream",
     "text": [
      "C:\\Users\\48514\\AppData\\Local\\Temp\\ipykernel_86484\\2356884383.py:2: UserWarning: Boolean Series key will be reindexed to match DataFrame index.\n",
      "  train_df.sort_values(by='Residual', ascending=True)[train_df['Residual'] > 0].head(100)\n"
     ]
    },
    {
     "data": {
      "text/plain": "         Actual      Predicted   Residual  Percentage Error     Waluta  \\\n57643   15200.0   15199.997415   0.002585          0.000017  10.503512   \n23103  112900.0  112899.915488   0.084512          0.000075  10.503512   \n99208   14500.0   14499.792579   0.207421          0.001430  10.503512   \n15423   99900.0   99899.732576   0.267424          0.000268  10.503512   \n36523   16999.0   16998.632802   0.367198          0.002160  10.503512   \n...         ...            ...        ...               ...        ...   \n22431   12900.0   12887.518801  12.481199          0.096753  10.503512   \n94807   40590.0   40577.431794  12.568206          0.030964  10.503512   \n58524   11900.0   11887.308998  12.691002          0.106647  10.503512   \n49514   15500.0   15487.025605  12.974395          0.083706  10.503512   \n13719   68100.0   68086.584294  13.415706          0.019700  10.503512   \n\n            Stan  Marka_pojazdu  Model_pojazdu  Rok_produkcji  Przebieg_km  \\\n57643  10.321069      10.020090      10.041910         2009.0     179323.0   \n23103  10.321069      10.490987      10.384515         2019.0       8808.0   \n99208  10.321069      10.045583      10.512107         2007.0     199578.0   \n15423  11.809753      11.349848      11.500163         2020.0          2.0   \n36523  10.321069      10.353420       9.954474         2008.0     168700.0   \n...          ...            ...            ...            ...          ...   \n22431  10.321069      10.055460       9.548633         2008.0     195000.0   \n94807  10.321069      10.386360      10.383389         2016.0     178000.0   \n58524  10.321069      10.334529       9.907148         2006.0     176111.0   \n49514  10.321069      10.353420      10.052485         2010.0     125789.0   \n13719  11.809753      10.534758       9.953864         2021.0          5.0   \n\n       ...  Start-Stop system  Sunroof  TV tuner  Tinted windows  \\\n57643  ...                  0        0         0               0   \n23103  ...                  1        0         0               1   \n99208  ...                  0        0         0               1   \n15423  ...                  1        0         0               0   \n36523  ...                  0        0         0               0   \n...    ...                ...      ...       ...             ...   \n22431  ...                  0        0         0               0   \n94807  ...                  1        0         0               0   \n58524  ...                  0        0         0               0   \n49514  ...                  0        0         0               0   \n13719  ...                  1        0         0               0   \n\n       Twilight sensor  USB socket  Velor upholstery  Xenon lights  \\\n57643                1           0                 1             0   \n23103                1           1                 0             0   \n99208                1           0                 0             0   \n15423                0           1                 0             0   \n36523                1           1                 0             0   \n...                ...         ...               ...           ...   \n22431                1           0                 0             0   \n94807                0           1                 0             0   \n58524                0           0                 0             0   \n49514                0           0                 0             0   \n13719                1           1                 0             0   \n\n       Marka_pojazdu_freq  Model_pojazdu_freq  \n57643            0.034476            0.002541  \n23103            0.021588            0.004675  \n99208            0.076560                 NaN  \n15423            0.008338            0.001536  \n36523            0.075504            0.004025  \n...                   ...                 ...  \n22431            0.050208            0.005111  \n94807            0.086353            0.019003  \n58524            0.011906            0.002792  \n49514            0.075504            0.017430  \n13719            0.046700            0.010598  \n\n[100 rows x 99 columns]",
      "text/html": "<div>\n<style scoped>\n    .dataframe tbody tr th:only-of-type {\n        vertical-align: middle;\n    }\n\n    .dataframe tbody tr th {\n        vertical-align: top;\n    }\n\n    .dataframe thead th {\n        text-align: right;\n    }\n</style>\n<table border=\"1\" class=\"dataframe\">\n  <thead>\n    <tr style=\"text-align: right;\">\n      <th></th>\n      <th>Actual</th>\n      <th>Predicted</th>\n      <th>Residual</th>\n      <th>Percentage Error</th>\n      <th>Waluta</th>\n      <th>Stan</th>\n      <th>Marka_pojazdu</th>\n      <th>Model_pojazdu</th>\n      <th>Rok_produkcji</th>\n      <th>Przebieg_km</th>\n      <th>...</th>\n      <th>Start-Stop system</th>\n      <th>Sunroof</th>\n      <th>TV tuner</th>\n      <th>Tinted windows</th>\n      <th>Twilight sensor</th>\n      <th>USB socket</th>\n      <th>Velor upholstery</th>\n      <th>Xenon lights</th>\n      <th>Marka_pojazdu_freq</th>\n      <th>Model_pojazdu_freq</th>\n    </tr>\n  </thead>\n  <tbody>\n    <tr>\n      <th>57643</th>\n      <td>15200.0</td>\n      <td>15199.997415</td>\n      <td>0.002585</td>\n      <td>0.000017</td>\n      <td>10.503512</td>\n      <td>10.321069</td>\n      <td>10.020090</td>\n      <td>10.041910</td>\n      <td>2009.0</td>\n      <td>179323.0</td>\n      <td>...</td>\n      <td>0</td>\n      <td>0</td>\n      <td>0</td>\n      <td>0</td>\n      <td>1</td>\n      <td>0</td>\n      <td>1</td>\n      <td>0</td>\n      <td>0.034476</td>\n      <td>0.002541</td>\n    </tr>\n    <tr>\n      <th>23103</th>\n      <td>112900.0</td>\n      <td>112899.915488</td>\n      <td>0.084512</td>\n      <td>0.000075</td>\n      <td>10.503512</td>\n      <td>10.321069</td>\n      <td>10.490987</td>\n      <td>10.384515</td>\n      <td>2019.0</td>\n      <td>8808.0</td>\n      <td>...</td>\n      <td>1</td>\n      <td>0</td>\n      <td>0</td>\n      <td>1</td>\n      <td>1</td>\n      <td>1</td>\n      <td>0</td>\n      <td>0</td>\n      <td>0.021588</td>\n      <td>0.004675</td>\n    </tr>\n    <tr>\n      <th>99208</th>\n      <td>14500.0</td>\n      <td>14499.792579</td>\n      <td>0.207421</td>\n      <td>0.001430</td>\n      <td>10.503512</td>\n      <td>10.321069</td>\n      <td>10.045583</td>\n      <td>10.512107</td>\n      <td>2007.0</td>\n      <td>199578.0</td>\n      <td>...</td>\n      <td>0</td>\n      <td>0</td>\n      <td>0</td>\n      <td>1</td>\n      <td>1</td>\n      <td>0</td>\n      <td>0</td>\n      <td>0</td>\n      <td>0.076560</td>\n      <td>NaN</td>\n    </tr>\n    <tr>\n      <th>15423</th>\n      <td>99900.0</td>\n      <td>99899.732576</td>\n      <td>0.267424</td>\n      <td>0.000268</td>\n      <td>10.503512</td>\n      <td>11.809753</td>\n      <td>11.349848</td>\n      <td>11.500163</td>\n      <td>2020.0</td>\n      <td>2.0</td>\n      <td>...</td>\n      <td>1</td>\n      <td>0</td>\n      <td>0</td>\n      <td>0</td>\n      <td>0</td>\n      <td>1</td>\n      <td>0</td>\n      <td>0</td>\n      <td>0.008338</td>\n      <td>0.001536</td>\n    </tr>\n    <tr>\n      <th>36523</th>\n      <td>16999.0</td>\n      <td>16998.632802</td>\n      <td>0.367198</td>\n      <td>0.002160</td>\n      <td>10.503512</td>\n      <td>10.321069</td>\n      <td>10.353420</td>\n      <td>9.954474</td>\n      <td>2008.0</td>\n      <td>168700.0</td>\n      <td>...</td>\n      <td>0</td>\n      <td>0</td>\n      <td>0</td>\n      <td>0</td>\n      <td>1</td>\n      <td>1</td>\n      <td>0</td>\n      <td>0</td>\n      <td>0.075504</td>\n      <td>0.004025</td>\n    </tr>\n    <tr>\n      <th>...</th>\n      <td>...</td>\n      <td>...</td>\n      <td>...</td>\n      <td>...</td>\n      <td>...</td>\n      <td>...</td>\n      <td>...</td>\n      <td>...</td>\n      <td>...</td>\n      <td>...</td>\n      <td>...</td>\n      <td>...</td>\n      <td>...</td>\n      <td>...</td>\n      <td>...</td>\n      <td>...</td>\n      <td>...</td>\n      <td>...</td>\n      <td>...</td>\n      <td>...</td>\n      <td>...</td>\n    </tr>\n    <tr>\n      <th>22431</th>\n      <td>12900.0</td>\n      <td>12887.518801</td>\n      <td>12.481199</td>\n      <td>0.096753</td>\n      <td>10.503512</td>\n      <td>10.321069</td>\n      <td>10.055460</td>\n      <td>9.548633</td>\n      <td>2008.0</td>\n      <td>195000.0</td>\n      <td>...</td>\n      <td>0</td>\n      <td>0</td>\n      <td>0</td>\n      <td>0</td>\n      <td>1</td>\n      <td>0</td>\n      <td>0</td>\n      <td>0</td>\n      <td>0.050208</td>\n      <td>0.005111</td>\n    </tr>\n    <tr>\n      <th>94807</th>\n      <td>40590.0</td>\n      <td>40577.431794</td>\n      <td>12.568206</td>\n      <td>0.030964</td>\n      <td>10.503512</td>\n      <td>10.321069</td>\n      <td>10.386360</td>\n      <td>10.383389</td>\n      <td>2016.0</td>\n      <td>178000.0</td>\n      <td>...</td>\n      <td>1</td>\n      <td>0</td>\n      <td>0</td>\n      <td>0</td>\n      <td>0</td>\n      <td>1</td>\n      <td>0</td>\n      <td>0</td>\n      <td>0.086353</td>\n      <td>0.019003</td>\n    </tr>\n    <tr>\n      <th>58524</th>\n      <td>11900.0</td>\n      <td>11887.308998</td>\n      <td>12.691002</td>\n      <td>0.106647</td>\n      <td>10.503512</td>\n      <td>10.321069</td>\n      <td>10.334529</td>\n      <td>9.907148</td>\n      <td>2006.0</td>\n      <td>176111.0</td>\n      <td>...</td>\n      <td>0</td>\n      <td>0</td>\n      <td>0</td>\n      <td>0</td>\n      <td>0</td>\n      <td>0</td>\n      <td>0</td>\n      <td>0</td>\n      <td>0.011906</td>\n      <td>0.002792</td>\n    </tr>\n    <tr>\n      <th>49514</th>\n      <td>15500.0</td>\n      <td>15487.025605</td>\n      <td>12.974395</td>\n      <td>0.083706</td>\n      <td>10.503512</td>\n      <td>10.321069</td>\n      <td>10.353420</td>\n      <td>10.052485</td>\n      <td>2010.0</td>\n      <td>125789.0</td>\n      <td>...</td>\n      <td>0</td>\n      <td>0</td>\n      <td>0</td>\n      <td>0</td>\n      <td>0</td>\n      <td>0</td>\n      <td>0</td>\n      <td>0</td>\n      <td>0.075504</td>\n      <td>0.017430</td>\n    </tr>\n    <tr>\n      <th>13719</th>\n      <td>68100.0</td>\n      <td>68086.584294</td>\n      <td>13.415706</td>\n      <td>0.019700</td>\n      <td>10.503512</td>\n      <td>11.809753</td>\n      <td>10.534758</td>\n      <td>9.953864</td>\n      <td>2021.0</td>\n      <td>5.0</td>\n      <td>...</td>\n      <td>1</td>\n      <td>0</td>\n      <td>0</td>\n      <td>0</td>\n      <td>1</td>\n      <td>1</td>\n      <td>0</td>\n      <td>0</td>\n      <td>0.046700</td>\n      <td>0.010598</td>\n    </tr>\n  </tbody>\n</table>\n<p>100 rows × 99 columns</p>\n</div>"
     },
     "execution_count": 13,
     "metadata": {},
     "output_type": "execute_result"
    }
   ],
   "source": [
    "#find top 10 samples with residual close to 0\n",
    "train_df.sort_values(by='Residual', ascending=True)[train_df['Residual'] > 0].head(100)"
   ],
   "metadata": {
    "collapsed": false,
    "ExecuteTime": {
     "end_time": "2025-03-24T19:24:35.921820900Z",
     "start_time": "2025-03-24T19:24:35.807897Z"
    }
   },
   "id": "77d5a524e8b3e545"
  }
 ],
 "metadata": {
  "kernelspec": {
   "display_name": "Python 3",
   "language": "python",
   "name": "python3"
  },
  "language_info": {
   "codemirror_mode": {
    "name": "ipython",
    "version": 2
   },
   "file_extension": ".py",
   "mimetype": "text/x-python",
   "name": "python",
   "nbconvert_exporter": "python",
   "pygments_lexer": "ipython2",
   "version": "2.7.6"
  }
 },
 "nbformat": 4,
 "nbformat_minor": 5
}
